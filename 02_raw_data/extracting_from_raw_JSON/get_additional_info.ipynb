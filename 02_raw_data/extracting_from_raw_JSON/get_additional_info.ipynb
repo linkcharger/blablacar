{
 "cells": [
  {
   "cell_type": "code",
   "execution_count": 1,
   "metadata": {},
   "outputs": [],
   "source": [
    "import json\n",
    "import pandas as pd\n",
    "import os \n",
    "\n",
    "os.chdir(\"/Users/sebastianbahralarcon/Ruben's team Dropbox/blablacar/02_raw_data/03_scrape_trip_details/01_data-raw_json_dumps\")"
   ]
  },
  {
   "cell_type": "code",
   "execution_count": 4,
   "metadata": {},
   "outputs": [
    {
     "name": "stdout",
     "output_type": "stream",
     "text": [
      ".DS_Store\n"
     ]
    }
   ],
   "source": [
    "dictionary_trips = {'trip_id': [], 'approval_mode':[], 'overall_driver_rating':[], 'passengers':[]}\n",
    "\n",
    "\n",
    "for filename in os.listdir(os.getcwd()):\n",
    "   try:\n",
    "        with open(os.path.join(os.getcwd(), filename), 'r') as f:\n",
    "            json_data = json.load(f)\n",
    "\n",
    "            for trip_dictionary in json_data:\n",
    "                trip_id = list(trip_dictionary.keys())[0]\n",
    "                the_trip = trip_dictionary[trip_id]\n",
    "                ride = the_trip['ride']\n",
    "                driver = ride.get('driver')\n",
    "                passenger_list = []\n",
    "                passengers = ride.get('passengers')\n",
    "                if passengers == None : \n",
    "                    passenger_list = None\n",
    "                else :\n",
    "                    for passenger in passengers:\n",
    "                        passenger_name = passenger.get('display_name')\n",
    "                        passenger_gender = passenger.get('gender')\n",
    "                        passenger_info = passenger_name + ',' + passenger_gender\n",
    "                        passenger_list.append(passenger_info)\n",
    "                if driver == None : \n",
    "                    overall = None\n",
    "                else :\n",
    "                    rating = driver.get('rating')\n",
    "                    overall = rating.get('overall') \n",
    "                approval_mode = ride.get('approval_mode')\n",
    "                dictionary_trips['trip_id'].append(trip_id)\n",
    "                dictionary_trips['approval_mode'].append(approval_mode)\n",
    "                dictionary_trips['overall_driver_rating'].append(overall)\n",
    "                dictionary_trips['passengers'].append(passenger_list)\n",
    "   except:\n",
    "        print(filename) \n",
    "        pass            \n",
    "        "
   ]
  },
  {
   "cell_type": "code",
   "execution_count": null,
   "metadata": {},
   "outputs": [],
   "source": [
    "additional_info_without_ge = pd.DataFrame.from_dict(dictionary_trips)"
   ]
  },
  {
   "cell_type": "code",
   "execution_count": null,
   "metadata": {},
   "outputs": [],
   "source": [
    "additional_info_without_ge.to_csv('additional_info_without_gender2.csv')"
   ]
  }
 ],
 "metadata": {
  "kernelspec": {
   "display_name": "Python 3.8.0 64-bit",
   "language": "python",
   "name": "python3"
  },
  "language_info": {
   "codemirror_mode": {
    "name": "ipython",
    "version": 3
   },
   "file_extension": ".py",
   "mimetype": "text/x-python",
   "name": "python",
   "nbconvert_exporter": "python",
   "pygments_lexer": "ipython3",
   "version": "3.8.0"
  },
  "orig_nbformat": 4,
  "vscode": {
   "interpreter": {
    "hash": "aee8b7b246df8f9039afb4144a1f6fd8d2ca17a180786b69acc140d282b71a49"
   }
  }
 },
 "nbformat": 4,
 "nbformat_minor": 2
}
