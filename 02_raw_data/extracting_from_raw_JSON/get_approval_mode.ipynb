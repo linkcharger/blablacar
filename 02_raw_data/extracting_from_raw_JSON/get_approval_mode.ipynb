{
 "cells": [
  {
   "cell_type": "code",
   "execution_count": null,
   "metadata": {},
   "outputs": [],
   "source": [
    "import json\n",
    "import pandas as pd"
   ]
  },
  {
   "cell_type": "code",
   "execution_count": null,
   "metadata": {},
   "outputs": [],
   "source": [
    "with open('trips_blablacar.txt') as f:\n",
    "    json_data = json.load(f)"
   ]
  },
  {
   "cell_type": "code",
   "execution_count": null,
   "metadata": {},
   "outputs": [],
   "source": [
    "dictionary_trips = {'trip_id': [], 'approval_mode':[]}\n",
    "\n",
    "for trip_dictionary in json_data:\n",
    "    trip_id = list(trip_dictionary.keys())[0]\n",
    "    the_trip = trip_dictionary[trip_id]\n",
    "    ride = the_trip['ride']\n",
    "    approval_mode = ride.get('approval_mode')\n",
    "    dictionary_trips['trip_id'].append(trip_id)\n",
    "    dictionary_trips['approval_mode'].append(approval_mode)\n",
    "    #print(trip_id, approval_mode)\n",
    "    "
   ]
  },
  {
   "cell_type": "code",
   "execution_count": null,
   "metadata": {},
   "outputs": [],
   "source": [
    "dataframe = pd.DataFrame.from_dict(dictionary_trips)"
   ]
  },
  {
   "cell_type": "code",
   "execution_count": null,
   "metadata": {},
   "outputs": [],
   "source": [
    "dataframe"
   ]
  }
 ],
 "metadata": {
  "kernelspec": {
   "display_name": "Python 3.8.0 64-bit",
   "language": "python",
   "name": "python3"
  },
  "language_info": {
   "name": "python",
   "version": "3.8.0"
  },
  "orig_nbformat": 4,
  "vscode": {
   "interpreter": {
    "hash": "aee8b7b246df8f9039afb4144a1f6fd8d2ca17a180786b69acc140d282b71a49"
   }
  }
 },
 "nbformat": 4,
 "nbformat_minor": 2
}
