{
 "cells": [
  {
   "cell_type": "code",
   "execution_count": 28,
   "metadata": {},
   "outputs": [],
   "source": [
    "import json\n",
    "import pandas as pd"
   ]
  },
  {
   "cell_type": "code",
   "execution_count": 29,
   "metadata": {},
   "outputs": [],
   "source": [
    "with open('2021-12-26_trips.txt') as f:\n",
    "    json_data = json.load(f)"
   ]
  },
  {
   "cell_type": "code",
   "execution_count": 67,
   "metadata": {},
   "outputs": [],
   "source": [
    "dictionary_trips = {'trip_id':[], 'approval_mode':[]}\n",
    "\n",
    "for trip_dictionary in json_data:\n",
    "    trip_id = list(trip_dictionary.keys())[0]\n",
    "    the_trip = trip_dictionary[trip_id]\n",
    "    ride = the_trip['ride']\n",
    "    approval_mode = ride.get('approval_mode')\n",
    "    dictionary_trips['trip_id'].append(trip_id)\n",
    "    dictionary_trips['approval_mode'].append(approval_mode)\n",
    "    \n",
    "    #print(trip_id, approval_mode)"
   ]
  },
  {
   "cell_type": "code",
   "execution_count": 64,
   "metadata": {},
   "outputs": [],
   "source": [
    "df_approval_mode = pd.DataFrame.from_dict(dictionary_trips)"
   ]
  },
  {
   "cell_type": "code",
   "execution_count": 65,
   "metadata": {},
   "outputs": [
    {
     "data": {
      "text/html": [
       "<div>\n",
       "<style scoped>\n",
       "    .dataframe tbody tr th:only-of-type {\n",
       "        vertical-align: middle;\n",
       "    }\n",
       "\n",
       "    .dataframe tbody tr th {\n",
       "        vertical-align: top;\n",
       "    }\n",
       "\n",
       "    .dataframe thead th {\n",
       "        text-align: right;\n",
       "    }\n",
       "</style>\n",
       "<table border=\"1\" class=\"dataframe\">\n",
       "  <thead>\n",
       "    <tr style=\"text-align: right;\">\n",
       "      <th></th>\n",
       "      <th>trip_id</th>\n",
       "      <th>approval_mode</th>\n",
       "    </tr>\n",
       "  </thead>\n",
       "  <tbody>\n",
       "    <tr>\n",
       "      <th>0</th>\n",
       "      <td>2359334803-rennes-herouville-saint-clair</td>\n",
       "      <td>MANUAL</td>\n",
       "    </tr>\n",
       "    <tr>\n",
       "      <th>1</th>\n",
       "      <td>2359356943-merignac-balma</td>\n",
       "      <td>MANUAL</td>\n",
       "    </tr>\n",
       "    <tr>\n",
       "      <th>2</th>\n",
       "      <td>2359359933-montgiscard-martigues</td>\n",
       "      <td>None</td>\n",
       "    </tr>\n",
       "    <tr>\n",
       "      <th>3</th>\n",
       "      <td>2359341918-rennes-saint-brieuc</td>\n",
       "      <td>AUTOMATIC</td>\n",
       "    </tr>\n",
       "    <tr>\n",
       "      <th>4</th>\n",
       "      <td>2359300473-marseille-lyon</td>\n",
       "      <td>None</td>\n",
       "    </tr>\n",
       "    <tr>\n",
       "      <th>...</th>\n",
       "      <td>...</td>\n",
       "      <td>...</td>\n",
       "    </tr>\n",
       "    <tr>\n",
       "      <th>6190</th>\n",
       "      <td>2357837018-somain-colombes</td>\n",
       "      <td>MANUAL</td>\n",
       "    </tr>\n",
       "    <tr>\n",
       "      <th>6191</th>\n",
       "      <td>2357583378-toulouse-tarbes-1</td>\n",
       "      <td>None</td>\n",
       "    </tr>\n",
       "    <tr>\n",
       "      <th>6192</th>\n",
       "      <td>2357583378-toulouse-tarbes-1</td>\n",
       "      <td>None</td>\n",
       "    </tr>\n",
       "    <tr>\n",
       "      <th>6193</th>\n",
       "      <td>2357583378-toulouse-tarbes-1</td>\n",
       "      <td>None</td>\n",
       "    </tr>\n",
       "    <tr>\n",
       "      <th>6194</th>\n",
       "      <td>2357583378-toulouse-tarbes-1</td>\n",
       "      <td>MANUAL</td>\n",
       "    </tr>\n",
       "  </tbody>\n",
       "</table>\n",
       "<p>6195 rows × 2 columns</p>\n",
       "</div>"
      ],
      "text/plain": [
       "                                       trip_id approval_mode\n",
       "0     2359334803-rennes-herouville-saint-clair        MANUAL\n",
       "1                    2359356943-merignac-balma        MANUAL\n",
       "2             2359359933-montgiscard-martigues          None\n",
       "3               2359341918-rennes-saint-brieuc     AUTOMATIC\n",
       "4                    2359300473-marseille-lyon          None\n",
       "...                                        ...           ...\n",
       "6190                2357837018-somain-colombes        MANUAL\n",
       "6191              2357583378-toulouse-tarbes-1          None\n",
       "6192              2357583378-toulouse-tarbes-1          None\n",
       "6193              2357583378-toulouse-tarbes-1          None\n",
       "6194              2357583378-toulouse-tarbes-1        MANUAL\n",
       "\n",
       "[6195 rows x 2 columns]"
      ]
     },
     "execution_count": 65,
     "metadata": {},
     "output_type": "execute_result"
    }
   ],
   "source": [
    "df_approval_mode"
   ]
  }
 ],
 "metadata": {
  "kernelspec": {
   "display_name": "Python 3.8.0 64-bit",
   "language": "python",
   "name": "python3"
  },
  "language_info": {
   "name": "python",
   "version": "3.8.0"
  },
  "orig_nbformat": 4,
  "vscode": {
   "interpreter": {
    "hash": "aee8b7b246df8f9039afb4144a1f6fd8d2ca17a180786b69acc140d282b71a49"
   }
  }
 },
 "nbformat": 4,
 "nbformat_minor": 2
}
